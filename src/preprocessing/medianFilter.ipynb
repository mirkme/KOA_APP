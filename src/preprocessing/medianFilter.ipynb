{
  "nbformat": 4,
  "nbformat_minor": 0,
  "metadata": {
    "colab": {
      "provenance": [],
      "gpuType": "T4"
    },
    "kernelspec": {
      "name": "python3",
      "display_name": "Python 3"
    },
    "language_info": {
      "name": "python"
    },
    "accelerator": "GPU"
  },
  "cells": [
    {
      "cell_type": "code",
      "source": [
        "# Step 1: Install Required Libraries\n",
        "!pip install opencv-python-headless"
      ],
      "metadata": {
        "id": "hzjKwR20p1OI"
      },
      "execution_count": null,
      "outputs": []
    },
    {
      "cell_type": "code",
      "source": [
        "# Step 2: Import Required Libraries\n",
        "import cv2\n",
        "import os\n",
        "from google.colab import drive\n",
        "import numpy as np\n",
        "import matplotlib.pyplot as plt"
      ],
      "metadata": {
        "id": "pnslAMVep1Do"
      },
      "execution_count": null,
      "outputs": []
    },
    {
      "cell_type": "code",
      "source": [
        "# Step 3: Mount Google Drive (if dataset is stored there)\n",
        "drive.mount('/content/drive')\n"
      ],
      "metadata": {
        "id": "PfqHyjejp0yH"
      },
      "execution_count": null,
      "outputs": []
    },
    {
      "cell_type": "code",
      "source": [
        "# Step 4: Define Input and Output Directories\n",
        "train_dir = \"/content/drive/MyDrive/trialDataset/trainData/0\"  # Replace with your X-ray train folder path\n",
        "val_dir = \"/content/drive/MyDrive/trialDataset/valData/0\"  # Replace with your X-ray validation folder path\n",
        "output_dir = \"/content/drive/MyDrive/output/train/0/0-median\"\n",
        "os.makedirs(output_dir, exist_ok=True)"
      ],
      "metadata": {
        "id": "sEmbc52np0XH"
      },
      "execution_count": null,
      "outputs": []
    },
    {
      "cell_type": "code",
      "source": [
        "# Step 5: Define Noise Filter for X-ray Images\n",
        "def apply_xray_noise_filter(image):\n",
        "    \"\"\"\n",
        "    Applies Median Blur to an X-ray image.\n",
        "    \"\"\"\n",
        "    # Median Blur\n",
        "    median_blur = cv2.medianBlur(image, 3)\n",
        "    return median_blur"
      ],
      "metadata": {
        "id": "KGL5jnTZp0Go"
      },
      "execution_count": null,
      "outputs": []
    },
    {
      "cell_type": "code",
      "source": [
        "# Step 6: Process X-ray Images and Save Outputs in Separate Folder\n",
        "def preprocess_xray_images(input_dir, output_dir):\n",
        "    \"\"\"\n",
        "    Reads X-ray images from a directory, applies the Median Blur filter, and saves the processed images.\n",
        "    \"\"\"\n",
        "    # Create subdirectory for the Median filter\n",
        "    median_dir = os.path.join(output_dir, \"median\")\n",
        "    os.makedirs(median_dir, exist_ok=True)\n",
        "\n",
        "    print(f\"Output directory created: Median: {median_dir}\")\n",
        "\n",
        "    for file_name in os.listdir(input_dir):\n",
        "        file_path = os.path.join(input_dir, file_name)\n",
        "\n",
        "        # Check for valid image files\n",
        "        if file_name.lower().endswith(('.png', '.jpg', '.jpeg', '.tiff', '.bmp')):\n",
        "            # Load image in grayscale mode\n",
        "            image = cv2.imread(file_path, cv2.IMREAD_GRAYSCALE)\n",
        "\n",
        "            if image is None:\n",
        "                print(f\"Skipping invalid or corrupted image: {file_path}\")\n",
        "                continue\n",
        "\n",
        "            # Apply Median Blur filter\n",
        "            median = apply_xray_noise_filter(image)\n",
        "\n",
        "            # Generate output file path\n",
        "            output_file_median = os.path.join(median_dir, f\"{os.path.splitext(file_name)[0]}_median.jpg\")\n",
        "\n",
        "            # Save the image\n",
        "            cv2.imwrite(output_file_median, median)\n",
        "\n",
        "            # Confirm the file is saved\n",
        "            assert os.path.exists(output_file_median), f\"Failed to save: {output_file_median}\"\n",
        "\n",
        "            print(f\"Processed and saved: {file_name}\")"
      ],
      "metadata": {
        "id": "osLs9n_0pwdw"
      },
      "execution_count": null,
      "outputs": []
    },
    {
      "cell_type": "code",
      "execution_count": null,
      "metadata": {
        "id": "Du5BkbbkpSzy"
      },
      "outputs": [],
      "source": [
        "# Step 7: Preprocess Train and Validation Datasets\n",
        "print(\"Processing Train Dataset...\")\n",
        "preprocess_xray_images(train_dir, os.path.join(output_dir, \"train\"))\n",
        "\n",
        "print(\"Processing Validation Dataset...\")\n",
        "preprocess_xray_images(val_dir, os.path.join(output_dir, \"validate\"))\n",
        "\n",
        "# Optional: Visualize Example Results\n",
        "def visualize_xray_results(image_path):\n",
        "    \"\"\"\n",
        "    Visualizes the original and filtered X-ray images side by side.\n",
        "    \"\"\"\n",
        "    image = cv2.imread(image_path, cv2.IMREAD_GRAYSCALE)\n",
        "    median = apply_xray_noise_filter(image)\n",
        "\n",
        "    # Plot images\n",
        "    plt.figure(figsize=(8, 6))\n",
        "    plt.subplot(1, 2, 1), plt.imshow(image, cmap='gray'), plt.title(\"Original\")\n",
        "    plt.subplot(1, 2, 2), plt.imshow(median, cmap='gray'), plt.title(\"Median Blur\")\n",
        "    plt.show()\n",
        "\n",
        "# Example Visualization\n",
        "example_image_path = os.path.join(train_dir, os.listdir(train_dir)[0])  # Replace with an actual image path\n",
        "visualize_xray_results(example_image_path)\n"
      ]
    }
  ]
}